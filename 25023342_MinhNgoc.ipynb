{
 "cells": [
  {
   "cell_type": "markdown",
   "id": "91e76403-2507-474b-a2f6-84da0c89a761",
   "metadata": {},
   "source": [
    "# Bài 1 (W3A2) : Đổi giá trị 2 số cho nhau"
   ]
  },
  {
   "cell_type": "code",
   "execution_count": 2,
   "id": "d0ff9a51-983c-49e5-9c09-eea3c8cb43ba",
   "metadata": {},
   "outputs": [
    {
     "name": "stdin",
     "output_type": "stream",
     "text": [
      " 1 2\n"
     ]
    },
    {
     "name": "stdout",
     "output_type": "stream",
     "text": [
      "a=2 b=1\n"
     ]
    }
   ],
   "source": [
    "a,b = map(int, input().split())\n",
    "a = a^b \n",
    "b = a^b \n",
    "a = a^b\n",
    "print(f\"a={a} b={b}\")"
   ]
  },
  {
   "cell_type": "markdown",
   "id": "162bd418-5327-417e-9a2c-917f4a6e101b",
   "metadata": {},
   "source": [
    "# Bài 2 (W3A3) :Kiểm Tra lũy thừa của 2"
   ]
  },
  {
   "cell_type": "code",
   "execution_count": 3,
   "id": "03d1fba7-011a-475f-af66-8eebe39af440",
   "metadata": {},
   "outputs": [
    {
     "name": "stdin",
     "output_type": "stream",
     "text": [
      " 4\n"
     ]
    },
    {
     "name": "stdout",
     "output_type": "stream",
     "text": [
      "đây là lũy thừa của 2\n"
     ]
    }
   ],
   "source": [
    "n = int(input())\n",
    "if n & (n-1) == 0:\n",
    "    print(\"đây là lũy thừa của 2\")\n",
    "else: print(\"đây không phải là lũy thừa của 2\")"
   ]
  },
  {
   "cell_type": "markdown",
   "id": "0c89596f-53f7-47b7-bf8f-7c6ba83c28cf",
   "metadata": {},
   "source": [
    "# Bài 3 (W3A4) : Phép Chia làm trong xuống"
   ]
  },
  {
   "cell_type": "code",
   "execution_count": 7,
   "id": "25a776b1-120b-4a70-b71c-c83d97c93303",
   "metadata": {},
   "outputs": [
    {
     "name": "stdin",
     "output_type": "stream",
     "text": [
      " 89 45\n"
     ]
    },
    {
     "name": "stdout",
     "output_type": "stream",
     "text": [
      "m/n = 1\n"
     ]
    }
   ],
   "source": [
    "import math\n",
    "m, n = map(float, input().split())\n",
    "print(f\"m/n = {math.floor(m/n)}\")"
   ]
  },
  {
   "cell_type": "markdown",
   "id": "fd4c3172-9f78-4e3b-989d-5af86dd0da32",
   "metadata": {},
   "source": [
    "# Bài 4 (W3A5) : Phép Chia làm tròn lên"
   ]
  },
  {
   "cell_type": "code",
   "execution_count": 8,
   "id": "771194e1-679a-422a-a9d4-1be42e2d5bfc",
   "metadata": {},
   "outputs": [
    {
     "name": "stdin",
     "output_type": "stream",
     "text": [
      " 89 45\n"
     ]
    },
    {
     "name": "stdout",
     "output_type": "stream",
     "text": [
      "m/n = 2\n"
     ]
    }
   ],
   "source": [
    "import math\n",
    "m, n = map(float, input().split())\n",
    "print(f\"m/n = {math.ceil(m/n)}\")"
   ]
  },
  {
   "cell_type": "markdown",
   "id": "295bc8f0-1c17-4331-868c-12624cad13f8",
   "metadata": {},
   "source": [
    "# Bài 5 (W3A6) : Kiểm tra chẵn lẻ"
   ]
  },
  {
   "cell_type": "code",
   "execution_count": null,
   "id": "41d92c8e-8db5-4ea1-a840-126323513a9d",
   "metadata": {},
   "outputs": [],
   "source": [
    "n = int(input())\n",
    "if n % 2 == 0:\n",
    "    print(\"Even\")\n",
    "else: print(\"Odd\")"
   ]
  },
  {
   "cell_type": "markdown",
   "id": "93657e5e-c4b4-4485-8e07-44b3838e8178",
   "metadata": {},
   "source": [
    "# Bài 6 (W3A7) : Check negative numbers"
   ]
  },
  {
   "cell_type": "code",
   "execution_count": 11,
   "id": "373cda2c-e8cf-4a77-bb64-33ab8ce5ad5e",
   "metadata": {},
   "outputs": [
    {
     "name": "stdin",
     "output_type": "stream",
     "text": [
      " -6 -5\n"
     ]
    },
    {
     "name": "stdout",
     "output_type": "stream",
     "text": [
      "Yes\n"
     ]
    }
   ],
   "source": [
    "a, b = map(int, input().split())\n",
    "if a < 0 and b < 0:\n",
    "    print(\"Yes\")\n",
    "elif a > 0 and b > 0:\n",
    "    print(\"No\")\n",
    "else: print(\"Wrong\")"
   ]
  },
  {
   "cell_type": "markdown",
   "id": "0c0fa9cb-e4e7-4fc5-bb39-cc036f75e837",
   "metadata": {},
   "source": [
    "# Bài 7 (W3A8): Longer string"
   ]
  },
  {
   "cell_type": "code",
   "execution_count": 12,
   "id": "54f188af-dd54-4705-b0d8-0fa7ed4599b1",
   "metadata": {},
   "outputs": [
    {
     "name": "stdin",
     "output_type": "stream",
     "text": [
      " hello hi\n"
     ]
    },
    {
     "name": "stdout",
     "output_type": "stream",
     "text": [
      "True\n"
     ]
    }
   ],
   "source": [
    "a, b = map(str, input().split())\n",
    "if len(a) > len(b):\n",
    "    print(\"True\")\n",
    "else: print(\"False\")"
   ]
  },
  {
   "cell_type": "markdown",
   "id": "a9bdc48e-614b-41ef-ad19-5c8f8bdb535c",
   "metadata": {},
   "source": [
    "# Bài 8 (W3A9) : Triangle"
   ]
  },
  {
   "cell_type": "code",
   "execution_count": 18,
   "id": "1548679d-c78d-49f3-9214-1d61bd875936",
   "metadata": {},
   "outputs": [
    {
     "name": "stdin",
     "output_type": "stream",
     "text": [
      " 3 4 5\n"
     ]
    },
    {
     "name": "stdout",
     "output_type": "stream",
     "text": [
      "Yes\n"
     ]
    }
   ],
   "source": [
    "a, b, c = map(int, input().split())\n",
    "def check_triangle(a, b, c):\n",
    "    if a + b > c and a + c > b and b + c > a:\n",
    "        return True\n",
    "    else: \n",
    "        return False\n",
    "if check_triangle(a, b, c) == True:\n",
    "    print(\"Yes\")\n",
    "else: print(\"No\")"
   ]
  },
  {
   "cell_type": "markdown",
   "id": "539b96d3-4434-4e22-8ed2-c1a4c3ed8a15",
   "metadata": {},
   "source": [
    "# Bài 9 (W3A10): Largest number\n"
   ]
  },
  {
   "cell_type": "code",
   "execution_count": 15,
   "id": "41351a09-dd6d-4ec2-883f-789ad849dd59",
   "metadata": {},
   "outputs": [
    {
     "name": "stdin",
     "output_type": "stream",
     "text": [
      " 1 2 3 4\n"
     ]
    },
    {
     "name": "stdout",
     "output_type": "stream",
     "text": [
      "Số nguyên lớn nhất trong bốn sô là: 4\n"
     ]
    }
   ],
   "source": [
    "a, b, c, d  = map(int, input().split())\n",
    "print(f\"Số nguyên lớn nhất trong bốn sô là: {max(a, b, c, d)}\")"
   ]
  },
  {
   "cell_type": "markdown",
   "id": "a69ab480-8278-440f-8709-10a3a66204e5",
   "metadata": {},
   "source": [
    "# Bài 10 (W3A11) : Phân Loại Tam giác"
   ]
  },
  {
   "cell_type": "code",
   "execution_count": 23,
   "id": "0e268537-589d-44b4-8581-116388a9864b",
   "metadata": {},
   "outputs": [
    {
     "name": "stdin",
     "output_type": "stream",
     "text": [
      " 4 5 6\n"
     ]
    },
    {
     "name": "stdout",
     "output_type": "stream",
     "text": [
      "Tam giác thường\n"
     ]
    }
   ],
   "source": [
    "a, b, c = map(int, input().split())\n",
    "if check_triangle(a, b, c) == False:\n",
    "    print(\"Không phải tam giác\")\n",
    "else:\n",
    "    if a == b == c:\n",
    "        print(\"Tam giác đều\")\n",
    "    elif a == b != c or b == c != a or a == c != b:\n",
    "        print(\"Tam giác cân\")\n",
    "    else: print(\"Tam giác thường\")\n",
    "    "
   ]
  },
  {
   "cell_type": "markdown",
   "id": "5f81357c-5e84-4155-9cf8-a10cf254b3b1",
   "metadata": {},
   "source": [
    "# Bài 11 (W3A12) : Kiểm tra năm nhuận"
   ]
  },
  {
   "cell_type": "code",
   "execution_count": 25,
   "id": "232dcaeb-5d46-40b6-8dd8-a1a709797c3d",
   "metadata": {},
   "outputs": [
    {
     "name": "stdin",
     "output_type": "stream",
     "text": [
      " 1900\n"
     ]
    },
    {
     "name": "stdout",
     "output_type": "stream",
     "text": [
      "No\n"
     ]
    }
   ],
   "source": [
    "n = int(input())\n",
    "if (n%4 == 0 and n%100!=0) or n % 400 == 0:\n",
    "    print(\"Yes\")\n",
    "else: print(\"No\")"
   ]
  },
  {
   "cell_type": "markdown",
   "id": "cfa02b71-9a85-4dff-897b-00ea791522cb",
   "metadata": {},
   "source": [
    "# Bài 12 (W3A14): giải phương trình bậc nhất"
   ]
  },
  {
   "cell_type": "code",
   "execution_count": 27,
   "id": "fdd6ae8c-d7d4-4cb4-b500-f87b69525d63",
   "metadata": {},
   "outputs": [
    {
     "name": "stdin",
     "output_type": "stream",
     "text": [
      " 3 4\n"
     ]
    },
    {
     "name": "stdout",
     "output_type": "stream",
     "text": [
      "Hệ có nghiệm là: -1.33\n"
     ]
    }
   ],
   "source": [
    "a, b = map(float, input().split())\n",
    "if a == 0 and b == 0:\n",
    "    print(\"Vô số nghiệm\")\n",
    "elif a == 0 and b != 0:\n",
    "    print(\"Vô nghiệm\")\n",
    "else: print(f\"Hệ có nghiệm là: {(-b/a):.2f}\")"
   ]
  },
  {
   "cell_type": "markdown",
   "id": "f33afe7a-f07f-4f49-b86f-ab576854ee2a",
   "metadata": {},
   "source": [
    "# Bài 13 (W3A15): Xếp loại học lực"
   ]
  },
  {
   "cell_type": "code",
   "execution_count": 28,
   "id": "989567fd-692e-41e9-87cf-5fca0d9fc5b1",
   "metadata": {},
   "outputs": [
    {
     "name": "stdin",
     "output_type": "stream",
     "text": [
      " 4.6\n"
     ]
    },
    {
     "name": "stdout",
     "output_type": "stream",
     "text": [
      "Học lực Yếu\n"
     ]
    }
   ],
   "source": [
    "diem_tb = float(input())\n",
    "while diem_tb < 0 or diem_tb >= 10 or type(diem_tb) != float:\n",
    "    diem_tb= float(input(\"vui lòng nhập lại đúng số điểm:\"))\n",
    "if diem_tb >= 8.0:\n",
    "    print(\"Học lực Giỏi\")\n",
    "elif diem_tb >= 6.5:\n",
    "    print(\"Học lực Khá\")\n",
    "elif diem_tb >= 5.0:\n",
    "    print(\"Học lực Trung bình\")\n",
    "else: print(\"Học lực Yếu\")"
   ]
  },
  {
   "cell_type": "markdown",
   "id": "d5335a65-f0e0-4aae-b09a-539487d8f48a",
   "metadata": {},
   "source": [
    "# Bài 14 (WA16): Rounding"
   ]
  },
  {
   "cell_type": "code",
   "execution_count": 37,
   "id": "dbc4ee18-630a-401b-a327-b2fc84bfc17c",
   "metadata": {},
   "outputs": [
    {
     "name": "stdin",
     "output_type": "stream",
     "text": [
      " 0.5\n"
     ]
    },
    {
     "name": "stdout",
     "output_type": "stream",
     "text": [
      "1.0 0.0 1\n"
     ]
    }
   ],
   "source": [
    "a = float(input())\n",
    "print(f\"{(a+1) *10 // 10} {a * 10  // 10} {int((a+1)*10 // 10)}\")"
   ]
  },
  {
   "cell_type": "markdown",
   "id": "d68d2fbc-8fdb-4b78-a25a-34f79265fbf0",
   "metadata": {},
   "source": [
    "# Bài 15 (WA17): Cấp số nhân"
   ]
  },
  {
   "cell_type": "code",
   "execution_count": 38,
   "id": "702d9e79-1e3b-4dd0-95bc-bb53ed28fa61",
   "metadata": {},
   "outputs": [
    {
     "name": "stdin",
     "output_type": "stream",
     "text": [
      " 2 4 8 16\n"
     ]
    },
    {
     "name": "stdout",
     "output_type": "stream",
     "text": [
      "đây là một cấp số nhân theo đúng thứ tự\n"
     ]
    }
   ],
   "source": [
    "a, b, c, d  = map(int, input().split())\n",
    "if b % a == 0: cong_boi = b / a\n",
    "if b * cong_boi == c and c * cong_boi == d:\n",
    "    print(\"đây là một cấp số nhân theo đúng thứ tự\")"
   ]
  },
  {
   "cell_type": "code",
   "execution_count": null,
   "id": "442b458d-034d-44c7-a575-28c87a54937d",
   "metadata": {},
   "outputs": [],
   "source": []
  }
 ],
 "metadata": {
  "kernelspec": {
   "display_name": "Python [conda env:base] *",
   "language": "python",
   "name": "conda-base-py"
  },
  "language_info": {
   "codemirror_mode": {
    "name": "ipython",
    "version": 3
   },
   "file_extension": ".py",
   "mimetype": "text/x-python",
   "name": "python",
   "nbconvert_exporter": "python",
   "pygments_lexer": "ipython3",
   "version": "3.13.5"
  }
 },
 "nbformat": 4,
 "nbformat_minor": 5
}

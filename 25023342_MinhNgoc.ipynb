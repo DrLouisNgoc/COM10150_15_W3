{
 "cells": [
  {
   "cell_type": "markdown",
   "id": "91e76403-2507-474b-a2f6-84da0c89a761",
   "metadata": {},
   "source": [
    "# Bài 1\n"
   ]
  },
  {
   "cell_type": "code",
   "execution_count": 5,
   "id": "d0ff9a51-983c-49e5-9c09-eea3c8cb43ba",
   "metadata": {},
   "outputs": [
    {
     "name": "stdin",
     "output_type": "stream",
     "text": [
      " 1 3\n"
     ]
    },
    {
     "name": "stdout",
     "output_type": "stream",
     "text": [
      "a=1\n",
      "b=3\n"
     ]
    }
   ],
   "source": [
    "a, b = map(int, input().split())\n",
    "print(f\"a={a}\\nb={b}\")"
   ]
  },
  {
   "cell_type": "markdown",
   "id": "2e03dd6b-2fc5-4329-afec-3e439384bcbf",
   "metadata": {},
   "source": []
  },
  {
   "cell_type": "code",
   "execution_count": null,
   "id": "552c72db-899d-4b19-b39e-1683c848fcf9",
   "metadata": {},
   "outputs": [],
   "source": []
  },
  {
   "cell_type": "code",
   "execution_count": null,
   "id": "66479f86-d14e-46a1-bdc2-20d8c8e5febe",
   "metadata": {},
   "outputs": [],
   "source": []
  },
  {
   "cell_type": "code",
   "execution_count": null,
   "id": "2b004582-5d25-4513-8d46-8c63e0245657",
   "metadata": {},
   "outputs": [],
   "source": []
  },
  {
   "cell_type": "code",
   "execution_count": null,
   "id": "3cf8696c-e265-49d8-911b-fd5db0268b1f",
   "metadata": {},
   "outputs": [],
   "source": []
  },
  {
   "cell_type": "markdown",
   "id": "0dff23d7-fa89-42da-8c9d-93afda2440f8",
   "metadata": {},
   "source": []
  },
  {
   "cell_type": "code",
   "execution_count": null,
   "id": "971a15c5-9083-4775-900c-0f64a2e519a0",
   "metadata": {},
   "outputs": [],
   "source": []
  },
  {
   "cell_type": "code",
   "execution_count": null,
   "id": "1ea3d923-e2b2-41d0-af7b-d182130f0d21",
   "metadata": {},
   "outputs": [],
   "source": []
  },
  {
   "cell_type": "code",
   "execution_count": null,
   "id": "0e4ab6f5-9a1f-4d17-bf98-73d9f50ee39e",
   "metadata": {},
   "outputs": [],
   "source": []
  },
  {
   "cell_type": "markdown",
   "id": "162bd418-5327-417e-9a2c-917f4a6e101b",
   "metadata": {},
   "source": [
    "# Bài 3"
   ]
  }
 ],
 "metadata": {
  "kernelspec": {
   "display_name": "Python [conda env:base] *",
   "language": "python",
   "name": "conda-base-py"
  },
  "language_info": {
   "codemirror_mode": {
    "name": "ipython",
    "version": 3
   },
   "file_extension": ".py",
   "mimetype": "text/x-python",
   "name": "python",
   "nbconvert_exporter": "python",
   "pygments_lexer": "ipython3",
   "version": "3.13.5"
  }
 },
 "nbformat": 4,
 "nbformat_minor": 5
}
